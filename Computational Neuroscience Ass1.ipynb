{
 "cells": [
  {
   "cell_type": "code",
   "execution_count": 2,
   "id": "ce7003c1",
   "metadata": {},
   "outputs": [
    {
     "name": "stdout",
     "output_type": "stream",
     "text": [
      "Hidden Layer Outputs:\n",
      "h1: 0.483468, h2: 0.494878\n",
      "\n",
      " Output Layer Outputs:\n",
      "o1: 0.806202, o2: 0.837851\n"
     ]
    }
   ],
   "source": [
    "def tanh(x):\n",
    "    exp_pos = (2.718281828459045 ** x)  # e^x\n",
    "    exp_neg = (2.718281828459045 ** -x) # e^-x\n",
    "    return (exp_pos - exp_neg) / (exp_pos + exp_neg)\n",
    "\n",
    "i1 = 0.05\n",
    "i2 = 0.10\n",
    "\n",
    "w1, w2, w3, w4 = 0.15, 0.20, 0.25, 0.30\n",
    "w5, w6, w7, w8 = 0.40, 0.45, 0.50, 0.55\n",
    "\n",
    "b1 = 0.5\n",
    "b2 = 0.7\n",
    "\n",
    "h1_input = (i1 * w1) + (i2 * w2) + b1\n",
    "h2_input = (i1 * w3) + (i2 * w4) + b1\n",
    "\n",
    "h1_output = tanh(h1_input)\n",
    "h2_output = tanh(h2_input)\n",
    "\n",
    "o1_input = (h1_output * w5) + (h2_output * w6) + b2\n",
    "o2_input = (h1_output * w7) + (h2_output * w8) + b2\n",
    "\n",
    "o1_output = tanh(o1_input)\n",
    "o2_output = tanh(o2_input)\n",
    "\n",
    "print(\"Hidden Layer Outputs:\")\n",
    "print(f\"h1: {h1_output:.6f}, h2: {h2_output:.6f}\")\n",
    "\n",
    "print(\"\\n Output Layer Outputs:\")\n",
    "print(f\"o1: {o1_output:.6f}, o2: {o2_output:.6f}\")"
   ]
  },
  {
   "cell_type": "code",
   "execution_count": null,
   "id": "5470a92b",
   "metadata": {},
   "outputs": [],
   "source": []
  }
 ],
 "metadata": {
  "kernelspec": {
   "display_name": "Python 3 (ipykernel)",
   "language": "python",
   "name": "python3"
  },
  "language_info": {
   "codemirror_mode": {
    "name": "ipython",
    "version": 3
   },
   "file_extension": ".py",
   "mimetype": "text/x-python",
   "name": "python",
   "nbconvert_exporter": "python",
   "pygments_lexer": "ipython3",
   "version": "3.10.9"
  }
 },
 "nbformat": 4,
 "nbformat_minor": 5
}
